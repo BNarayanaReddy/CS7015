{
  "nbformat": 4,
  "nbformat_minor": 0,
  "metadata": {
    "colab": {
      "provenance": [],
      "authorship_tag": "ABX9TyM2n+GOvdJKAJL5EgiYy3vO",
      "include_colab_link": true
    },
    "kernelspec": {
      "name": "python3",
      "display_name": "Python 3"
    },
    "language_info": {
      "name": "python"
    }
  },
  "cells": [
    {
      "cell_type": "markdown",
      "metadata": {
        "id": "view-in-github",
        "colab_type": "text"
      },
      "source": [
        "<a href=\"https://colab.research.google.com/github/BNarayanaReddy/CS7015/blob/main/Chapter6_AutoEncoders_Denoising_SparseAEs.ipynb\" target=\"_parent\"><img src=\"https://colab.research.google.com/assets/colab-badge.svg\" alt=\"Open In Colab\"/></a>"
      ]
    },
    {
      "cell_type": "code",
      "execution_count": 1,
      "metadata": {
        "id": "TUEc2raW3cLB"
      },
      "outputs": [],
      "source": [
        "import torch\n",
        "import numpy as np\n",
        "import torchvision\n",
        "from torch.utils.data import random_split, DataLoader\n",
        "import torch.nn as nn\n",
        "import torchvision.transforms as transforms\n",
        "from sklearn.model_selection import train_test_split"
      ]
    },
    {
      "cell_type": "code",
      "source": [
        "from PIL import Image"
      ],
      "metadata": {
        "id": "15y30gDo5Xwz"
      },
      "execution_count": 2,
      "outputs": []
    },
    {
      "cell_type": "code",
      "source": [
        "transform = transforms.Compose([\n",
        "    transforms.ToTensor()\n",
        "])"
      ],
      "metadata": {
        "id": "T6yduF875yPG"
      },
      "execution_count": 3,
      "outputs": []
    },
    {
      "cell_type": "code",
      "source": [
        "# Dataset\n",
        "dataset = torchvision.datasets.FashionMNIST(root='FashionMNIST/raw/t10k-images-idx3-ubyte', transform=transform, download = True)"
      ],
      "metadata": {
        "id": "GYooSrJs4tol"
      },
      "execution_count": 4,
      "outputs": []
    },
    {
      "cell_type": "code",
      "source": [
        "dataset[1][1]"
      ],
      "metadata": {
        "colab": {
          "base_uri": "https://localhost:8080/"
        },
        "id": "dOg94gZx5V-E",
        "outputId": "347588c8-5354-4179-8a0e-64a8d85cc810"
      },
      "execution_count": 5,
      "outputs": [
        {
          "output_type": "execute_result",
          "data": {
            "text/plain": [
              "0"
            ]
          },
          "metadata": {},
          "execution_count": 5
        }
      ]
    },
    {
      "cell_type": "code",
      "source": [
        "import matplotlib.pyplot as plt"
      ],
      "metadata": {
        "id": "BUt8Xxht5_o_"
      },
      "execution_count": 6,
      "outputs": []
    },
    {
      "cell_type": "code",
      "source": [
        "plt.imshow(dataset[120][0].squeeze(0), cmap='gray') # chappal"
      ],
      "metadata": {
        "colab": {
          "base_uri": "https://localhost:8080/",
          "height": 447
        },
        "id": "OKL8c9cA638o",
        "outputId": "d65d4201-bdfa-4f53-83ee-658e7197a652"
      },
      "execution_count": 7,
      "outputs": [
        {
          "output_type": "execute_result",
          "data": {
            "text/plain": [
              "<matplotlib.image.AxesImage at 0x79c73162c850>"
            ]
          },
          "metadata": {},
          "execution_count": 7
        },
        {
          "output_type": "display_data",
          "data": {
            "text/plain": [
              "<Figure size 640x480 with 1 Axes>"
            ],
            "image/png": "[encoded data removed]"
          },
          "metadata": {}
        }
      ]
    },
    {
      "cell_type": "code",
      "source": [
        "train_size = int(0.8 * len(dataset))\n",
        "test_size = len(dataset) - train_size\n",
        "\n",
        "train_dataset, test_dataset = random_split(dataset, [train_size, test_size])"
      ],
      "metadata": {
        "id": "gShYu6Pe69ZD"
      },
      "execution_count": 8,
      "outputs": []
    },
    {
      "cell_type": "code",
      "source": [
        "train_dataloader = DataLoader(train_dataset, batch_size=64, shuffle=True)\n",
        "test_dataloader = DataLoader(test_dataset, batch_size=64, shuffle=False)"
      ],
      "metadata": {
        "id": "-rorL_h87yHX"
      },
      "execution_count": 9,
      "outputs": []
    },
    {
      "cell_type": "code",
      "source": [
        "# # load one\n",
        "# iterator = iter(train_dataloader)\n",
        "# img = next(iterator)"
      ],
      "metadata": {
        "id": "8JUavBO28jSU"
      },
      "execution_count": 10,
      "outputs": []
    },
    {
      "cell_type": "markdown",
      "source": [
        "#### UnderComplete AutoEncoder"
      ],
      "metadata": {
        "id": "FiC-ag9gF7Yy"
      }
    },
    {
      "cell_type": "code",
      "source": [
        "# Build AE model (Undercomplte)\n",
        "class UnderComplete(nn.Module):\n",
        "  def __init__(self, input_size, hidden_size):\n",
        "    super(UnderComplete, self).__init__()\n",
        "    self.input_size = input_size\n",
        "    self.hidden_size = hidden_size\n",
        "    self.hidden_layer = nn.Linear(input_size, hidden_size)\n",
        "    self.output_layer = nn.Linear(hidden_size, input_size)\n",
        "    self.relu = nn.ReLU() # bcoz, the inputs are always positive or 0\n",
        "\n",
        "  def forward(self, x):\n",
        "    x = x.view(-1, self.input_size) # 28*28\n",
        "    x = self.hidden_layer(x)\n",
        "    x = self.relu(x)\n",
        "    x = self.output_layer(x)\n",
        "    x = self.relu(x)\n",
        "    return x"
      ],
      "metadata": {
        "id": "LzpMGmxd8yNq"
      },
      "execution_count": 11,
      "outputs": []
    },
    {
      "cell_type": "code",
      "source": [
        "under_completeAE = UnderComplete(28*28, 100) # 784 -> 100 -> 784\n",
        "under_completeAE"
      ],
      "metadata": {
        "colab": {
          "base_uri": "https://localhost:8080/"
        },
        "id": "U7TD1s30_NEW",
        "outputId": "bb4dd0c6-c1f0-4bfc-c2f2-371f9ca9061e"
      },
      "execution_count": 12,
      "outputs": [
        {
          "output_type": "execute_result",
          "data": {
            "text/plain": [
              "UnderComplete(\n",
              "  (hidden_layer): Linear(in_features=784, out_features=100, bias=True)\n",
              "  (output_layer): Linear(in_features=100, out_features=784, bias=True)\n",
              "  (relu): ReLU()\n",
              ")"
            ]
          },
          "metadata": {},
          "execution_count": 12
        }
      ]
    },
    {
      "cell_type": "code",
      "source": [
        "from torch.optim import Adam"
      ],
      "metadata": {
        "id": "J4yOdaULAEuB"
      },
      "execution_count": 13,
      "outputs": []
    },
    {
      "cell_type": "code",
      "source": [
        "mse_loss = nn.MSELoss()"
      ],
      "metadata": {
        "id": "jVDrh7U-ALNE"
      },
      "execution_count": 14,
      "outputs": []
    },
    {
      "cell_type": "code",
      "source": [
        "# Training\n",
        "def fit_undercompleteAE(epochs = 10, lr = 1e-3, eps = 1e-8):\n",
        "  optimizer = Adam(under_completeAE.parameters(), lr=lr, eps = eps)\n",
        "  for epoch in range(1, epochs+1):\n",
        "    epoch_loss= 0\n",
        "    for step, (x, y) in enumerate(train_dataloader):\n",
        "      optimizer.zero_grad()\n",
        "\n",
        "      x = x.view(-1, 28*28)\n",
        "      # fwd prop\n",
        "      x_hat = under_completeAE(x)\n",
        "      # loss\n",
        "      loss = mse_loss(x, x_hat)\n",
        "      # back prop\n",
        "      loss.backward()\n",
        "      # update\n",
        "      optimizer.step()\n",
        "      with torch.no_grad():\n",
        "        epoch_loss += loss\n",
        "\n",
        "\n",
        "    print(f\"Loss: {epoch}\", epoch_loss/len(train_dataloader))"
      ],
      "metadata": {
        "id": "KC5_j7Yn_XGC"
      },
      "execution_count": 15,
      "outputs": []
    },
    {
      "cell_type": "code",
      "source": [
        "fit_undercompleteAE()"
      ],
      "metadata": {
        "colab": {
          "base_uri": "https://localhost:8080/"
        },
        "id": "nuq6IBoB_atX",
        "outputId": "b9f1adb1-9ced-40d5-c572-5c9031eaa265"
      },
      "execution_count": 16,
      "outputs": [
        {
          "output_type": "stream",
          "name": "stdout",
          "text": [
            "Loss: 1 tensor(0.0327)\n",
            "Loss: 2 tensor(0.0206)\n",
            "Loss: 3 tensor(0.0192)\n",
            "Loss: 4 tensor(0.0186)\n",
            "Loss: 5 tensor(0.0183)\n",
            "Loss: 6 tensor(0.0181)\n",
            "Loss: 7 tensor(0.0180)\n",
            "Loss: 8 tensor(0.0179)\n",
            "Loss: 9 tensor(0.0178)\n",
            "Loss: 10 tensor(0.0177)\n"
          ]
        }
      ]
    },
    {
      "cell_type": "code",
      "source": [
        "for batch in test_dataloader:\n",
        "  plt.figure(figsize=(12, 4))\n",
        "  under_completeAE.eval()\n",
        "  x = batch[0][10]\n",
        "  plt.subplot(1, 2, 1)\n",
        "  plt.imshow(x.squeeze(), cmap='grey')\n",
        "  plt.title(\"Input Image\")\n",
        "  plt.show()\n",
        "  # Fwd Prop\n",
        "  x_hat = under_completeAE(x.view(-1, 28*28))\n",
        "  x_hat = x_hat.view(-1, 28, 28)\n",
        "  # detach from comp. graph\n",
        "  x_hat = x_hat.detach()\n",
        "  plt.figure(figsize=(12, 4))\n",
        "  plt.subplot(1, 2, 2)\n",
        "  plt.imshow(x_hat.squeeze(), cmap='grey')\n",
        "  plt.title(\"Reconstructed Image\")\n",
        "  plt.show()\n",
        "  break"
      ],
      "metadata": {
        "colab": {
          "base_uri": "https://localhost:8080/",
          "height": 765
        },
        "id": "dvATJgx6BHpW",
        "outputId": "0efacd13-89b0-4b41-ca5d-3413bcc18431"
      },
      "execution_count": 17,
      "outputs": [
        {
          "output_type": "display_data",
          "data": {
            "text/plain": [
              "<Figure size 1200x400 with 1 Axes>"
            ],
            "image/png": "[encoded data removed]"
          },
          "metadata": {}
        },
        {
          "output_type": "display_data",
          "data": {
            "text/plain": [
              "<Figure size 1200x400 with 1 Axes>"
            ],
            "image/png": "[encoded data removed]"
          },
          "metadata": {}
        }
      ]
    },
    {
      "cell_type": "markdown",
      "source": [
        "#### OverComplete AutoEncoder"
      ],
      "metadata": {
        "id": "7JDoICzWF41p"
      }
    },
    {
      "cell_type": "code",
      "source": [
        "# Build AE model (Overcomplte)\n",
        "class OverComplete(nn.Module):\n",
        "  def __init__(self, input_size, hidden_size):\n",
        "    super(OverComplete, self).__init__()\n",
        "    self.input_size = input_size\n",
        "    self.hidden_size = hidden_size\n",
        "    self.hidden_layer = nn.Linear(input_size, hidden_size)\n",
        "    self.output_layer = nn.Linear(hidden_size, input_size)\n",
        "    self.relu = nn.ReLU() # bcoz, the inputs are always positive or 0\n",
        "\n",
        "  def forward(self, x):\n",
        "    x = x.view(-1, self.input_size) # 28*28\n",
        "    x = self.hidden_layer(x)\n",
        "    x = self.relu(x)\n",
        "    x = self.output_layer(x)\n",
        "    x = self.relu(x)\n",
        "    return x"
      ],
      "metadata": {
        "id": "iAH4TmSgCrXP"
      },
      "execution_count": 18,
      "outputs": []
    },
    {
      "cell_type": "code",
      "source": [
        "over_completeAE = OverComplete(28*28, 900) # 784 -> 900 -> 784\n",
        "over_completeAE"
      ],
      "metadata": {
        "colab": {
          "base_uri": "https://localhost:8080/"
        },
        "id": "G4z_l7kTDg8_",
        "outputId": "050693ee-b096-4873-ae53-8bba9565c594"
      },
      "execution_count": 19,
      "outputs": [
        {
          "output_type": "execute_result",
          "data": {
            "text/plain": [
              "OverComplete(\n",
              "  (hidden_layer): Linear(in_features=784, out_features=900, bias=True)\n",
              "  (output_layer): Linear(in_features=900, out_features=784, bias=True)\n",
              "  (relu): ReLU()\n",
              ")"
            ]
          },
          "metadata": {},
          "execution_count": 19
        }
      ]
    },
    {
      "cell_type": "code",
      "source": [
        "# Training\n",
        "def fit_over_completeAE(epochs = 10, lr = 1e-3, eps = 1e-8):\n",
        "  optimizer = Adam(over_completeAE.parameters(), lr=lr, eps = eps)\n",
        "  for epoch in range(1, epochs+1):\n",
        "    epoch_loss= 0\n",
        "    for step, (x, y) in enumerate(train_dataloader):\n",
        "      optimizer.zero_grad()\n",
        "\n",
        "      x = x.view(-1, 28*28)\n",
        "      # fwd prop\n",
        "      x_hat = over_completeAE(x)\n",
        "      # loss\n",
        "      loss = mse_loss(x, x_hat)\n",
        "      # back prop\n",
        "      loss.backward()\n",
        "      # update\n",
        "      optimizer.step()\n",
        "      with torch.no_grad():\n",
        "        epoch_loss += loss\n",
        "      # print(loss)\n",
        "\n",
        "    print(f\"Loss: {epoch}\", epoch_loss/len(train_dataloader))"
      ],
      "metadata": {
        "id": "jR72G45QGgzg"
      },
      "execution_count": 20,
      "outputs": []
    },
    {
      "cell_type": "code",
      "source": [
        "fit_over_completeAE()"
      ],
      "metadata": {
        "colab": {
          "base_uri": "https://localhost:8080/"
        },
        "id": "A34p_25cGv91",
        "outputId": "e433af47-916e-49c9-90ca-96223f2c0d9c"
      },
      "execution_count": 21,
      "outputs": [
        {
          "output_type": "stream",
          "name": "stdout",
          "text": [
            "Loss: 1 tensor(0.0255)\n",
            "Loss: 2 tensor(0.0182)\n",
            "Loss: 3 tensor(0.0172)\n",
            "Loss: 4 tensor(0.0167)\n",
            "Loss: 5 tensor(0.0164)\n",
            "Loss: 6 tensor(0.0162)\n",
            "Loss: 7 tensor(0.0161)\n",
            "Loss: 8 tensor(0.0160)\n",
            "Loss: 9 tensor(0.0160)\n",
            "Loss: 10 tensor(0.0159)\n"
          ]
        }
      ]
    },
    {
      "cell_type": "code",
      "source": [
        "# Not performed well on the test dataset even the train loss is less\n",
        "# Denoising, Sparsing, Tying, and Contrastive methods can be implemented to better perform the overcomplete AE\n",
        "for batch in test_dataloader:\n",
        "  plt.figure(figsize=(12, 4))\n",
        "  over_completeAE.eval()\n",
        "  x = batch[0][10]\n",
        "  plt.subplot(1, 2, 1)\n",
        "  plt.imshow(x.squeeze(), cmap='grey')\n",
        "  plt.title(\"Input Image\")\n",
        "  plt.show()\n",
        "  # Fwd Prop\n",
        "  x_hat = over_completeAE(x.view(-1, 28*28))\n",
        "  x_hat = x_hat.view(-1, 28, 28)\n",
        "  # detach from comp. graph\n",
        "  x_hat = x_hat.detach()\n",
        "  plt.figure(figsize=(12, 4))\n",
        "  plt.subplot(1, 2, 2)\n",
        "  plt.imshow(x_hat.squeeze(), cmap='grey')\n",
        "  plt.title(\"Reconstructed Image\")\n",
        "  plt.show()\n",
        "  break"
      ],
      "metadata": {
        "colab": {
          "base_uri": "https://localhost:8080/",
          "height": 765
        },
        "id": "e23Sn6OLG1Si",
        "outputId": "595cce15-71e2-4c01-85ca-bc8a87634f43"
      },
      "execution_count": 22,
      "outputs": [
        {
          "output_type": "display_data",
          "data": {
            "text/plain": [
              "<Figure size 1200x400 with 1 Axes>"
            ],
            "image/png": "[encoded data removed]"
          },
          "metadata": {}
        },
        {
          "output_type": "display_data",
          "data": {
            "text/plain": [
              "<Figure size 1200x400 with 1 Axes>"
            ],
            "image/png": "[encoded data removed]"
          },
          "metadata": {}
        }
      ]
    },
    {
      "cell_type": "markdown",
      "source": [
        "#### Denoising of AE\n",
        "- Perform the corruption of input data by randomly adding the gaussion noise or randomly switching to zeros"
      ],
      "metadata": {
        "id": "Fn_AHF0KIXoJ"
      }
    },
    {
      "cell_type": "code",
      "source": [
        "DAE = OverComplete(28*28, 900) # 784 -> 900 -> 784\n",
        "DAE"
      ],
      "metadata": {
        "colab": {
          "base_uri": "https://localhost:8080/"
        },
        "id": "B7k18DQsLS3-",
        "outputId": "7cffba40-bf75-4354-9851-b60d5a13d102"
      },
      "execution_count": 23,
      "outputs": [
        {
          "output_type": "execute_result",
          "data": {
            "text/plain": [
              "OverComplete(\n",
              "  (hidden_layer): Linear(in_features=784, out_features=900, bias=True)\n",
              "  (output_layer): Linear(in_features=900, out_features=784, bias=True)\n",
              "  (relu): ReLU()\n",
              ")"
            ]
          },
          "metadata": {},
          "execution_count": 23
        }
      ]
    },
    {
      "cell_type": "code",
      "source": [
        "# Training\n",
        "def fit_DAE(epochs = 10, lr = 1e-3, eps = 1e-8):\n",
        "  optimizer = Adam(DAE.parameters(), lr=lr, eps = eps)\n",
        "  for epoch in range(1, epochs+1):\n",
        "    epoch_loss= 0\n",
        "    for step, (x, y) in enumerate(train_dataloader):\n",
        "      optimizer.zero_grad()\n",
        "\n",
        "      x = x.view(-1, 28*28)\n",
        "      # add guassian noise\n",
        "      x_noise = x + torch.randn_like(x)*0.2\n",
        "      # fwd prop\n",
        "      x_hat = DAE(x_noise)\n",
        "      # loss\n",
        "      loss = mse_loss(x, x_hat)\n",
        "      # back prop\n",
        "      loss.backward()\n",
        "      # update\n",
        "      optimizer.step()\n",
        "      with torch.no_grad():\n",
        "        epoch_loss += loss\n",
        "      # print(loss)\n",
        "\n",
        "    print(f\"Loss: {epoch}\", epoch_loss/len(train_dataloader))"
      ],
      "metadata": {
        "id": "JvA2k5-yJLAa"
      },
      "execution_count": 24,
      "outputs": []
    },
    {
      "cell_type": "code",
      "source": [
        "fit_DAE()"
      ],
      "metadata": {
        "colab": {
          "base_uri": "https://localhost:8080/"
        },
        "id": "LKUP70ilLBvd",
        "outputId": "8a6a1622-ac41-4fa6-c366-b01c35533b0b"
      },
      "execution_count": 25,
      "outputs": [
        {
          "output_type": "stream",
          "name": "stdout",
          "text": [
            "Loss: 1 tensor(0.0232)\n",
            "Loss: 2 tensor(0.0175)\n",
            "Loss: 3 tensor(0.0167)\n",
            "Loss: 4 tensor(0.0157)\n",
            "Loss: 5 tensor(0.0152)\n",
            "Loss: 6 tensor(0.0151)\n",
            "Loss: 7 tensor(0.0150)\n",
            "Loss: 8 tensor(0.0150)\n",
            "Loss: 9 tensor(0.0145)\n",
            "Loss: 10 tensor(0.0144)\n"
          ]
        }
      ]
    },
    {
      "cell_type": "code",
      "source": [
        "# Denoised\n",
        "for batch in test_dataloader:\n",
        "  plt.figure(figsize=(12, 4))\n",
        "  DAE.eval()\n",
        "  x = batch[0][10]\n",
        "  plt.subplot(1, 2, 1)\n",
        "  plt.imshow(x.squeeze(), cmap='grey')\n",
        "  plt.title(\"Input Image\")\n",
        "  plt.show()\n",
        "  # Fwd Prop\n",
        "  x_hat = DAE(x.view(-1, 28*28))\n",
        "  x_hat = x_hat.view(-1, 28, 28)\n",
        "  # detach from comp. graph\n",
        "  x_hat = x_hat.detach()\n",
        "  plt.figure(figsize=(12, 4))\n",
        "  plt.subplot(1, 2, 2)\n",
        "  plt.imshow(x_hat.squeeze(), cmap='grey')\n",
        "  plt.title(\"Reconstructed Image\")\n",
        "  plt.show()\n",
        "  break"
      ],
      "metadata": {
        "colab": {
          "base_uri": "https://localhost:8080/",
          "height": 765
        },
        "id": "SR7FMtZxLGIV",
        "outputId": "4484dd6e-cf31-4a2e-90df-954793105fe8"
      },
      "execution_count": 26,
      "outputs": [
        {
          "output_type": "display_data",
          "data": {
            "text/plain": [
              "<Figure size 1200x400 with 1 Axes>"
            ],
            "image/png": "[encoded data removed]"
          },
          "metadata": {}
        },
        {
          "output_type": "display_data",
          "data": {
            "text/plain": [
              "<Figure size 1200x400 with 1 Axes>"
            ],
            "image/png": "[encoded data removed]"
          },
          "metadata": {}
        }
      ]
    },
    {
      "cell_type": "markdown",
      "source": [
        "#### Sparsing of AE\n",
        "- Sparsity parameter rrho -> a hyper param usually taken between 0 to 0.2"
      ],
      "metadata": {
        "id": "Qev-10r98T7E"
      }
    },
    {
      "cell_type": "code",
      "source": [
        "# Build AE model (Overcomplte)\n",
        "class SparseAE(nn.Module):\n",
        "  def __init__(self, input_size, hidden_size):\n",
        "    super(SparseAE, self).__init__()\n",
        "    self.input_size = input_size\n",
        "    self.hidden_size = hidden_size\n",
        "    self.hidden_layer = nn.Linear(input_size, hidden_size)\n",
        "    self.output_layer = nn.Linear(hidden_size, input_size)\n",
        "    self.sigmoid = nn.Sigmoid() # bcoz, the inputs are always positive or 0\n",
        "    self.relu = nn.ReLU()\n",
        "\n",
        "  def forward(self, x):\n",
        "    x = x.view(-1, self.input_size) # 28*28\n",
        "    x = self.hidden_layer(x)\n",
        "    x = self.sigmoid(x)\n",
        "    avg_activation = torch.mean(x, dim=0)\n",
        "    x = self.output_layer(x)\n",
        "    x = self.relu(x)\n",
        "    return x, avg_activation\n"
      ],
      "metadata": {
        "id": "KJUbT8IkM6yA"
      },
      "execution_count": 27,
      "outputs": []
    },
    {
      "cell_type": "code",
      "source": [
        "SAE = SparseAE(28*28, 900)"
      ],
      "metadata": {
        "id": "cjd8v0a99m_F"
      },
      "execution_count": 28,
      "outputs": []
    },
    {
      "cell_type": "code",
      "source": [
        "bce = nn.BCELoss()"
      ],
      "metadata": {
        "id": "0b9glqcO91o_"
      },
      "execution_count": 29,
      "outputs": []
    },
    {
      "cell_type": "code",
      "source": [
        "# Training - It requires more epochs for better perf.\n",
        "def fit_SparseAE(epochs = 10, lr = 1e-3, eps = 1e-8, sparsity_rho = 0.05, alpha = 0.3):\n",
        "  optimizer = Adam(SAE.parameters(), eps = eps, lr=lr)\n",
        "  for epoch in range(1, epochs+1):\n",
        "    epoch_loss= 0\n",
        "    for step, (x, y) in enumerate(train_dataloader):\n",
        "      optimizer.zero_grad()\n",
        "\n",
        "      x = x.view(-1, 28*28)\n",
        "      # fwd prop\n",
        "      x_hat, avg_activation = SAE(x)\n",
        "      # loss\n",
        "      reconstruction_loss = mse_loss(x, x_hat)\n",
        "      # print(avg_activation.shape)\n",
        "\n",
        "      sparsity_tensor = torch.ones_like(avg_activation)*sparsity_rho\n",
        "      # print(sparsity_rho)\n",
        "      sparse_loss = bce(avg_activation, sparsity_tensor)\n",
        "\n",
        "      loss = (1-alpha)*reconstruction_loss + alpha*sparse_loss\n",
        "      # back prop\n",
        "      loss.backward()\n",
        "      # update\n",
        "      optimizer.step()\n",
        "      with torch.no_grad():\n",
        "        epoch_loss += loss\n",
        "      # print(loss)\n",
        "\n",
        "    print(f\"Loss: {epoch}\", epoch_loss/len(train_dataloader))"
      ],
      "metadata": {
        "id": "fYvf3ReX9a6_"
      },
      "execution_count": 30,
      "outputs": []
    },
    {
      "cell_type": "code",
      "source": [
        "fit_SparseAE()"
      ],
      "metadata": {
        "colab": {
          "base_uri": "https://localhost:8080/"
        },
        "id": "ENILFmor_Cew",
        "outputId": "73f32981-2e75-48a1-b80b-d3ef46006c00"
      },
      "execution_count": 31,
      "outputs": [
        {
          "output_type": "stream",
          "name": "stdout",
          "text": [
            "Loss: 1 tensor(0.1001)\n",
            "Loss: 2 tensor(0.0799)\n",
            "Loss: 3 tensor(0.0753)\n",
            "Loss: 4 tensor(0.0726)\n",
            "Loss: 5 tensor(0.0712)\n",
            "Loss: 6 tensor(0.0704)\n",
            "Loss: 7 tensor(0.0698)\n",
            "Loss: 8 tensor(0.0694)\n",
            "Loss: 9 tensor(0.0691)\n",
            "Loss: 10 tensor(0.0688)\n"
          ]
        }
      ]
    },
    {
      "cell_type": "code",
      "source": [
        "# Sparse AutoEncoders\n",
        "for batch in test_dataloader:\n",
        "  plt.figure(figsize=(12, 4))\n",
        "  SAE.eval()\n",
        "  x = batch[0][10]\n",
        "  plt.subplot(1, 2, 1)\n",
        "  plt.imshow(x.squeeze(), cmap='grey')\n",
        "  plt.title(\"Input Image\")\n",
        "  plt.show()\n",
        "  # Fwd Prop\n",
        "  x_hat, activation_avg = SAE(x.view(-1, 28*28))\n",
        "  x_hat = x_hat.view(-1, 28, 28)\n",
        "  # detach from comp. graph\n",
        "  x_hat = x_hat.detach()\n",
        "  plt.figure(figsize=(12, 4))\n",
        "  plt.subplot(1, 2, 2)\n",
        "  plt.imshow(x_hat.squeeze(), cmap='grey')\n",
        "  plt.title(\"Reconstructed Image\")\n",
        "  plt.show()\n",
        "  break"
      ],
      "metadata": {
        "colab": {
          "base_uri": "https://localhost:8080/",
          "height": 765
        },
        "id": "kr2Oi9fb_GFg",
        "outputId": "51f286a4-97ce-474e-911a-c38c46756095"
      },
      "execution_count": 32,
      "outputs": [
        {
          "output_type": "display_data",
          "data": {
            "text/plain": [
              "<Figure size 1200x400 with 1 Axes>"
            ],
            "image/png": "[encoded data removed]"
          },
          "metadata": {}
        },
        {
          "output_type": "display_data",
          "data": {
            "text/plain": [
              "<Figure size 1200x400 with 1 Axes>"
            ],
            "image/png": "[encoded data removed]"
          },
          "metadata": {}
        }
      ]
    },
    {
      "cell_type": "code",
      "source": [],
      "metadata": {
        "id": "GH0LLj7tbQtm"
      },
      "execution_count": 32,
      "outputs": []
    }
  ]
}