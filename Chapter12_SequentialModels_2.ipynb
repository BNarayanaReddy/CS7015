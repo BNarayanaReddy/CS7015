{
  "nbformat": 4,
  "nbformat_minor": 0,
  "metadata": {
    "colab": {
      "provenance": [],
      "authorship_tag": "ABX9TyPzRf5C/PT4SWuwZlXII7DA",
      "include_colab_link": true
    },
    "kernelspec": {
      "name": "python3",
      "display_name": "Python 3"
    },
    "language_info": {
      "name": "python"
    },
    "widgets": {
      "application/vnd.jupyter.widget-state+json": {
        "aefd53c4420047fdbd59a717a674f419": {
          "model_module": "@jupyter-widgets/controls",
          "model_name": "VBoxModel",
          "model_module_version": "1.5.0",
          "state": {
            "_dom_classes": [],
            "_model_module": "@jupyter-widgets/controls",
            "_model_module_version": "1.5.0",
            "_model_name": "VBoxModel",
            "_view_count": null,
            "_view_module": "@jupyter-widgets/controls",
            "_view_module_version": "1.5.0",
            "_view_name": "VBoxView",
            "box_style": "",
            "children": [],
            "layout": "IPY_MODEL_98a632bc4589445881df649f00e6b58f"
          }
        },
        "f9acfc93c3b2454d93864fc9494154c4": {
          "model_module": "@jupyter-widgets/controls",
          "model_name": "HTMLModel",
          "model_module_version": "1.5.0",
          "state": {
            "_dom_classes": [],
            "_model_module": "@jupyter-widgets/controls",
            "_model_module_version": "1.5.0",
            "_model_name": "HTMLModel",
            "_view_count": null,
            "_view_module": "@jupyter-widgets/controls",
            "_view_module_version": "1.5.0",
            "_view_name": "HTMLView",
            "description": "",
            "description_tooltip": null,
            "layout": "IPY_MODEL_af999ff8baf84165a66761661b5ad9f8",
            "placeholder": "​",
            "style": "IPY_MODEL_5e7879e270024051a3357a61993a26ea",
            "value": "<center> <img\nsrc=https://huggingface.co/front/assets/huggingface_logo-noborder.svg\nalt='Hugging Face'> <br> Copy a token from <a\nhref=\"https://huggingface.co/settings/tokens\" target=\"_blank\">your Hugging Face\ntokens page</a> and paste it below. <br> Immediately click login after copying\nyour token or it might be stored in plain text in this notebook file. </center>"
          }
        },
        "f95ed141cf3a4f38817edfc5da07c25f": {
          "model_module": "@jupyter-widgets/controls",
          "model_name": "PasswordModel",
          "model_module_version": "1.5.0",
          "state": {
            "_dom_classes": [],
            "_model_module": "@jupyter-widgets/controls",
            "_model_module_version": "1.5.0",
            "_model_name": "PasswordModel",
            "_view_count": null,
            "_view_module": "@jupyter-widgets/controls",
            "_view_module_version": "1.5.0",
            "_view_name": "PasswordView",
            "continuous_update": true,
            "description": "Token:",
            "description_tooltip": null,
            "disabled": false,
            "layout": "IPY_MODEL_919e92bdf9cd4bac8baec5f7f473e284",
            "placeholder": "​",
            "style": "IPY_MODEL_1c4834c0620a46db8ae2c5ac2fa2652e",
            "value": ""
          }
        },
        "f6ac40907b11490fb8c28b4688aa6f90": {
          "model_module": "@jupyter-widgets/controls",
          "model_name": "CheckboxModel",
          "model_module_version": "1.5.0",
          "state": {
            "_dom_classes": [],
            "_model_module": "@jupyter-widgets/controls",
            "_model_module_version": "1.5.0",
            "_model_name": "CheckboxModel",
            "_view_count": null,
            "_view_module": "@jupyter-widgets/controls",
            "_view_module_version": "1.5.0",
            "_view_name": "CheckboxView",
            "description": "Add token as git credential?",
            "description_tooltip": null,
            "disabled": false,
            "indent": true,
            "layout": "IPY_MODEL_e1f0a3dad9d04d008a3fa316767ab863",
            "style": "IPY_MODEL_f45b02315dd04df8ab257a6f61220aed",
            "value": true
          }
        },
        "4da1dafb2ed74390b4f2704bdfcb621d": {
          "model_module": "@jupyter-widgets/controls",
          "model_name": "ButtonModel",
          "model_module_version": "1.5.0",
          "state": {
            "_dom_classes": [],
            "_model_module": "@jupyter-widgets/controls",
            "_model_module_version": "1.5.0",
            "_model_name": "ButtonModel",
            "_view_count": null,
            "_view_module": "@jupyter-widgets/controls",
            "_view_module_version": "1.5.0",
            "_view_name": "ButtonView",
            "button_style": "",
            "description": "Login",
            "disabled": false,
            "icon": "",
            "layout": "IPY_MODEL_574cd26117244366a4255b71b29253aa",
            "style": "IPY_MODEL_f63e04ab7e4b49fa8772f247aabffc66",
            "tooltip": ""
          }
        },
        "fd253a6ae31f48ad8f8f3b606d27d410": {
          "model_module": "@jupyter-widgets/controls",
          "model_name": "HTMLModel",
          "model_module_version": "1.5.0",
          "state": {
            "_dom_classes": [],
            "_model_module": "@jupyter-widgets/controls",
            "_model_module_version": "1.5.0",
            "_model_name": "HTMLModel",
            "_view_count": null,
            "_view_module": "@jupyter-widgets/controls",
            "_view_module_version": "1.5.0",
            "_view_name": "HTMLView",
            "description": "",
            "description_tooltip": null,
            "layout": "IPY_MODEL_a0f26cfa04ee41fbabea6f0d4cf4bed6",
            "placeholder": "​",
            "style": "IPY_MODEL_d7a2eae2018848b199626072f7797610",
            "value": "\n<b>Pro Tip:</b> If you don't already have one, you can create a dedicated\n'notebooks' token with 'write' access, that you can then easily reuse for all\nnotebooks. </center>"
          }
        },
        "98a632bc4589445881df649f00e6b58f": {
          "model_module": "@jupyter-widgets/base",
          "model_name": "LayoutModel",
          "model_module_version": "1.2.0",
          "state": {
            "_model_module": "@jupyter-widgets/base",
            "_model_module_version": "1.2.0",
            "_model_name": "LayoutModel",
            "_view_count": null,
            "_view_module": "@jupyter-widgets/base",
            "_view_module_version": "1.2.0",
            "_view_name": "LayoutView",
            "align_content": null,
            "align_items": "center",
            "align_self": null,
            "border": null,
            "bottom": null,
            "display": "flex",
            "flex": null,
            "flex_flow": "column",
            "grid_area": null,
            "grid_auto_columns": null,
            "grid_auto_flow": null,
            "grid_auto_rows": null,
            "grid_column": null,
            "grid_gap": null,
            "grid_row": null,
            "grid_template_areas": null,
            "grid_template_columns": null,
            "grid_template_rows": null,
            "height": null,
            "justify_content": null,
            "justify_items": null,
            "left": null,
            "margin": null,
            "max_height": null,
            "max_width": null,
            "min_height": null,
            "min_width": null,
            "object_fit": null,
            "object_position": null,
            "order": null,
            "overflow": null,
            "overflow_x": null,
            "overflow_y": null,
            "padding": null,
            "right": null,
            "top": null,
            "visibility": null,
            "width": "50%"
          }
        },
        "af999ff8baf84165a66761661b5ad9f8": {
          "model_module": "@jupyter-widgets/base",
          "model_name": "LayoutModel",
          "model_module_version": "1.2.0",
          "state": {
            "_model_module": "@jupyter-widgets/base",
            "_model_module_version": "1.2.0",
            "_model_name": "LayoutModel",
            "_view_count": null,
            "_view_module": "@jupyter-widgets/base",
            "_view_module_version": "1.2.0",
            "_view_name": "LayoutView",
            "align_content": null,
            "align_items": null,
            "align_self": null,
            "border": null,
            "bottom": null,
            "display": null,
            "flex": null,
            "flex_flow": null,
            "grid_area": null,
            "grid_auto_columns": null,
            "grid_auto_flow": null,
            "grid_auto_rows": null,
            "grid_column": null,
            "grid_gap": null,
            "grid_row": null,
            "grid_template_areas": null,
            "grid_template_columns": null,
            "grid_template_rows": null,
            "height": null,
            "justify_content": null,
            "justify_items": null,
            "left": null,
            "margin": null,
            "max_height": null,
            "max_width": null,
            "min_height": null,
            "min_width": null,
            "object_fit": null,
            "object_position": null,
            "order": null,
            "overflow": null,
            "overflow_x": null,
            "overflow_y": null,
            "padding": null,
            "right": null,
            "top": null,
            "visibility": null,
            "width": null
          }
        },
        "5e7879e270024051a3357a61993a26ea": {
          "model_module": "@jupyter-widgets/controls",
          "model_name": "DescriptionStyleModel",
          "model_module_version": "1.5.0",
          "state": {
            "_model_module": "@jupyter-widgets/controls",
            "_model_module_version": "1.5.0",
            "_model_name": "DescriptionStyleModel",
            "_view_count": null,
            "_view_module": "@jupyter-widgets/base",
            "_view_module_version": "1.2.0",
            "_view_name": "StyleView",
            "description_width": ""
          }
        },
        "919e92bdf9cd4bac8baec5f7f473e284": {
          "model_module": "@jupyter-widgets/base",
          "model_name": "LayoutModel",
          "model_module_version": "1.2.0",
          "state": {
            "_model_module": "@jupyter-widgets/base",
            "_model_module_version": "1.2.0",
            "_model_name": "LayoutModel",
            "_view_count": null,
            "_view_module": "@jupyter-widgets/base",
            "_view_module_version": "1.2.0",
            "_view_name": "LayoutView",
            "align_content": null,
            "align_items": null,
            "align_self": null,
            "border": null,
            "bottom": null,
            "display": null,
            "flex": null,
            "flex_flow": null,
            "grid_area": null,
            "grid_auto_columns": null,
            "grid_auto_flow": null,
            "grid_auto_rows": null,
            "grid_column": null,
            "grid_gap": null,
            "grid_row": null,
            "grid_template_areas": null,
            "grid_template_columns": null,
            "grid_template_rows": null,
            "height": null,
            "justify_content": null,
            "justify_items": null,
            "left": null,
            "margin": null,
            "max_height": null,
            "max_width": null,
            "min_height": null,
            "min_width": null,
            "object_fit": null,
            "object_position": null,
            "order": null,
            "overflow": null,
            "overflow_x": null,
            "overflow_y": null,
            "padding": null,
            "right": null,
            "top": null,
            "visibility": null,
            "width": null
          }
        },
        "1c4834c0620a46db8ae2c5ac2fa2652e": {
          "model_module": "@jupyter-widgets/controls",
          "model_name": "DescriptionStyleModel",
          "model_module_version": "1.5.0",
          "state": {
            "_model_module": "@jupyter-widgets/controls",
            "_model_module_version": "1.5.0",
            "_model_name": "DescriptionStyleModel",
            "_view_count": null,
            "_view_module": "@jupyter-widgets/base",
            "_view_module_version": "1.2.0",
            "_view_name": "StyleView",
            "description_width": ""
          }
        },
        "e1f0a3dad9d04d008a3fa316767ab863": {
          "model_module": "@jupyter-widgets/base",
          "model_name": "LayoutModel",
          "model_module_version": "1.2.0",
          "state": {
            "_model_module": "@jupyter-widgets/base",
            "_model_module_version": "1.2.0",
            "_model_name": "LayoutModel",
            "_view_count": null,
            "_view_module": "@jupyter-widgets/base",
            "_view_module_version": "1.2.0",
            "_view_name": "LayoutView",
            "align_content": null,
            "align_items": null,
            "align_self": null,
            "border": null,
            "bottom": null,
            "display": null,
            "flex": null,
            "flex_flow": null,
            "grid_area": null,
            "grid_auto_columns": null,
            "grid_auto_flow": null,
            "grid_auto_rows": null,
            "grid_column": null,
            "grid_gap": null,
            "grid_row": null,
            "grid_template_areas": null,
            "grid_template_columns": null,
            "grid_template_rows": null,
            "height": null,
            "justify_content": null,
            "justify_items": null,
            "left": null,
            "margin": null,
            "max_height": null,
            "max_width": null,
            "min_height": null,
            "min_width": null,
            "object_fit": null,
            "object_position": null,
            "order": null,
            "overflow": null,
            "overflow_x": null,
            "overflow_y": null,
            "padding": null,
            "right": null,
            "top": null,
            "visibility": null,
            "width": null
          }
        },
        "f45b02315dd04df8ab257a6f61220aed": {
          "model_module": "@jupyter-widgets/controls",
          "model_name": "DescriptionStyleModel",
          "model_module_version": "1.5.0",
          "state": {
            "_model_module": "@jupyter-widgets/controls",
            "_model_module_version": "1.5.0",
            "_model_name": "DescriptionStyleModel",
            "_view_count": null,
            "_view_module": "@jupyter-widgets/base",
            "_view_module_version": "1.2.0",
            "_view_name": "StyleView",
            "description_width": ""
          }
        },
        "574cd26117244366a4255b71b29253aa": {
          "model_module": "@jupyter-widgets/base",
          "model_name": "LayoutModel",
          "model_module_version": "1.2.0",
          "state": {
            "_model_module": "@jupyter-widgets/base",
            "_model_module_version": "1.2.0",
            "_model_name": "LayoutModel",
            "_view_count": null,
            "_view_module": "@jupyter-widgets/base",
            "_view_module_version": "1.2.0",
            "_view_name": "LayoutView",
            "align_content": null,
            "align_items": null,
            "align_self": null,
            "border": null,
            "bottom": null,
            "display": null,
            "flex": null,
            "flex_flow": null,
            "grid_area": null,
            "grid_auto_columns": null,
            "grid_auto_flow": null,
            "grid_auto_rows": null,
            "grid_column": null,
            "grid_gap": null,
            "grid_row": null,
            "grid_template_areas": null,
            "grid_template_columns": null,
            "grid_template_rows": null,
            "height": null,
            "justify_content": null,
            "justify_items": null,
            "left": null,
            "margin": null,
            "max_height": null,
            "max_width": null,
            "min_height": null,
            "min_width": null,
            "object_fit": null,
            "object_position": null,
            "order": null,
            "overflow": null,
            "overflow_x": null,
            "overflow_y": null,
            "padding": null,
            "right": null,
            "top": null,
            "visibility": null,
            "width": null
          }
        },
        "f63e04ab7e4b49fa8772f247aabffc66": {
          "model_module": "@jupyter-widgets/controls",
          "model_name": "ButtonStyleModel",
          "model_module_version": "1.5.0",
          "state": {
            "_model_module": "@jupyter-widgets/controls",
            "_model_module_version": "1.5.0",
            "_model_name": "ButtonStyleModel",
            "_view_count": null,
            "_view_module": "@jupyter-widgets/base",
            "_view_module_version": "1.2.0",
            "_view_name": "StyleView",
            "button_color": null,
            "font_weight": ""
          }
        },
        "a0f26cfa04ee41fbabea6f0d4cf4bed6": {
          "model_module": "@jupyter-widgets/base",
          "model_name": "LayoutModel",
          "model_module_version": "1.2.0",
          "state": {
            "_model_module": "@jupyter-widgets/base",
            "_model_module_version": "1.2.0",
            "_model_name": "LayoutModel",
            "_view_count": null,
            "_view_module": "@jupyter-widgets/base",
            "_view_module_version": "1.2.0",
            "_view_name": "LayoutView",
            "align_content": null,
            "align_items": null,
            "align_self": null,
            "border": null,
            "bottom": null,
            "display": null,
            "flex": null,
            "flex_flow": null,
            "grid_area": null,
            "grid_auto_columns": null,
            "grid_auto_flow": null,
            "grid_auto_rows": null,
            "grid_column": null,
            "grid_gap": null,
            "grid_row": null,
            "grid_template_areas": null,
            "grid_template_columns": null,
            "grid_template_rows": null,
            "height": null,
            "justify_content": null,
            "justify_items": null,
            "left": null,
            "margin": null,
            "max_height": null,
            "max_width": null,
            "min_height": null,
            "min_width": null,
            "object_fit": null,
            "object_position": null,
            "order": null,
            "overflow": null,
            "overflow_x": null,
            "overflow_y": null,
            "padding": null,
            "right": null,
            "top": null,
            "visibility": null,
            "width": null
          }
        },
        "d7a2eae2018848b199626072f7797610": {
          "model_module": "@jupyter-widgets/controls",
          "model_name": "DescriptionStyleModel",
          "model_module_version": "1.5.0",
          "state": {
            "_model_module": "@jupyter-widgets/controls",
            "_model_module_version": "1.5.0",
            "_model_name": "DescriptionStyleModel",
            "_view_count": null,
            "_view_module": "@jupyter-widgets/base",
            "_view_module_version": "1.2.0",
            "_view_name": "StyleView",
            "description_width": ""
          }
        },
        "b18612fd5f324b86a26db2f695d3478d": {
          "model_module": "@jupyter-widgets/controls",
          "model_name": "LabelModel",
          "model_module_version": "1.5.0",
          "state": {
            "_dom_classes": [],
            "_model_module": "@jupyter-widgets/controls",
            "_model_module_version": "1.5.0",
            "_model_name": "LabelModel",
            "_view_count": null,
            "_view_module": "@jupyter-widgets/controls",
            "_view_module_version": "1.5.0",
            "_view_name": "LabelView",
            "description": "",
            "description_tooltip": null,
            "layout": "IPY_MODEL_6171279206be466aa9e937e0c0e43f60",
            "placeholder": "​",
            "style": "IPY_MODEL_795b552d7fa0488dab303b3d1f3b5555",
            "value": "Connecting..."
          }
        },
        "6171279206be466aa9e937e0c0e43f60": {
          "model_module": "@jupyter-widgets/base",
          "model_name": "LayoutModel",
          "model_module_version": "1.2.0",
          "state": {
            "_model_module": "@jupyter-widgets/base",
            "_model_module_version": "1.2.0",
            "_model_name": "LayoutModel",
            "_view_count": null,
            "_view_module": "@jupyter-widgets/base",
            "_view_module_version": "1.2.0",
            "_view_name": "LayoutView",
            "align_content": null,
            "align_items": null,
            "align_self": null,
            "border": null,
            "bottom": null,
            "display": null,
            "flex": null,
            "flex_flow": null,
            "grid_area": null,
            "grid_auto_columns": null,
            "grid_auto_flow": null,
            "grid_auto_rows": null,
            "grid_column": null,
            "grid_gap": null,
            "grid_row": null,
            "grid_template_areas": null,
            "grid_template_columns": null,
            "grid_template_rows": null,
            "height": null,
            "justify_content": null,
            "justify_items": null,
            "left": null,
            "margin": null,
            "max_height": null,
            "max_width": null,
            "min_height": null,
            "min_width": null,
            "object_fit": null,
            "object_position": null,
            "order": null,
            "overflow": null,
            "overflow_x": null,
            "overflow_y": null,
            "padding": null,
            "right": null,
            "top": null,
            "visibility": null,
            "width": null
          }
        },
        "795b552d7fa0488dab303b3d1f3b5555": {
          "model_module": "@jupyter-widgets/controls",
          "model_name": "DescriptionStyleModel",
          "model_module_version": "1.5.0",
          "state": {
            "_model_module": "@jupyter-widgets/controls",
            "_model_module_version": "1.5.0",
            "_model_name": "DescriptionStyleModel",
            "_view_count": null,
            "_view_module": "@jupyter-widgets/base",
            "_view_module_version": "1.2.0",
            "_view_name": "StyleView",
            "description_width": ""
          }
        }
      }
    }
  },
  "cells": [
    {
      "cell_type": "markdown",
      "metadata": {
        "id": "view-in-github",
        "colab_type": "text"
      },
      "source": [
        "<a href=\"https://colab.research.google.com/github/BNarayanaReddy/CS7015/blob/main/Chapter12_SequentialModels_2.ipynb\" target=\"_parent\"><img src=\"https://colab.research.google.com/assets/colab-badge.svg\" alt=\"Open In Colab\"/></a>"
      ]
    },
    {
      "cell_type": "code",
      "source": [
        "# LSTM training from scratch\n",
        "import torch\n",
        "import numpy as np\n",
        "import torch.nn as nn\n",
        "import transformers\n",
        "from huggingface_hub import notebook_login\n",
        "import matplotlib.pyplot as plt\n"
      ],
      "metadata": {
        "id": "m-z-HuF6bOoh"
      },
      "execution_count": 1,
      "outputs": []
    },
    {
      "cell_type": "code",
      "source": [
        "data = \"\"\"Alice was beginning to get very tired of sitting by her sister on the bank, and of having nothing to do: once or twice she had peeped into the book her sister was reading, but it had no pictures or conversations in it, ‘and what is the use of a book,’ thought Alice ‘without pictures or conversation?' So she was considering in her own mind (as well as she could, for the hot day made her feel very sleepy and stupid), whether the pleasure of making a daisy-chain would be worth the trouble of getting up and picking the daisies, when suddenly a White Rabbit with pink eyes ran close by her. There was nothing so very remarkable in that; nor did Alice think it so very much out of the way to hear the Rabbit say to itself, ‘Oh dear! Oh dear! I shall be late!’ (when she thought it over afterwards, it occurred to her that she ought to have wondered at this, but at the time it all seemed quite natural); but when the Rabbit actually took a watch out of its waistcoat-pocket, and looked at it, and then hurried on, Alice started to her feet, for it flashed across her mind that she had never before seen a rabbit with either a waistcoat-pocket, or a watch to take out of it, and burning with curiosity, she ran across the field after it, and fortunately was just in time to see it pop down a large rabbit-hole under the hedge.\n",
        "\"\"\""
      ],
      "metadata": {
        "id": "cDT43BA8c5cQ"
      },
      "execution_count": 2,
      "outputs": []
    },
    {
      "cell_type": "code",
      "source": [
        "from huggingface_hub import notebook_login\n",
        "notebook_login()"
      ],
      "metadata": {
        "colab": {
          "base_uri": "https://localhost:8080/",
          "height": 17,
          "referenced_widgets": [
            "aefd53c4420047fdbd59a717a674f419",
            "f9acfc93c3b2454d93864fc9494154c4",
            "f95ed141cf3a4f38817edfc5da07c25f",
            "f6ac40907b11490fb8c28b4688aa6f90",
            "4da1dafb2ed74390b4f2704bdfcb621d",
            "fd253a6ae31f48ad8f8f3b606d27d410",
            "98a632bc4589445881df649f00e6b58f",
            "af999ff8baf84165a66761661b5ad9f8",
            "5e7879e270024051a3357a61993a26ea",
            "919e92bdf9cd4bac8baec5f7f473e284",
            "1c4834c0620a46db8ae2c5ac2fa2652e",
            "e1f0a3dad9d04d008a3fa316767ab863",
            "f45b02315dd04df8ab257a6f61220aed",
            "574cd26117244366a4255b71b29253aa",
            "f63e04ab7e4b49fa8772f247aabffc66",
            "a0f26cfa04ee41fbabea6f0d4cf4bed6",
            "d7a2eae2018848b199626072f7797610",
            "b18612fd5f324b86a26db2f695d3478d",
            "6171279206be466aa9e937e0c0e43f60",
            "795b552d7fa0488dab303b3d1f3b5555"
          ]
        },
        "id": "Wgop8ErNdNQf",
        "outputId": "d4e14a47-e03e-4460-b193-3287cb3e2c75"
      },
      "execution_count": 3,
      "outputs": [
        {
          "output_type": "display_data",
          "data": {
            "text/plain": [
              "VBox(children=(HTML(value='<center> <img\\nsrc=https://huggingface.co/front/assets/huggingface_logo-noborder.sv…"
            ],
            "application/vnd.jupyter.widget-view+json": {
              "version_major": 2,
              "version_minor": 0,
              "model_id": "aefd53c4420047fdbd59a717a674f419"
            }
          },
          "metadata": {}
        }
      ]
    },
    {
      "cell_type": "code",
      "source": [
        "from transformers import AutoModel, AutoTokenizer\n",
        "tokenizer = AutoTokenizer.from_pretrained('google-bert/bert-base-uncased')\n",
        "emb_model = AutoModel.from_pretrained('google-bert/bert-base-uncased')"
      ],
      "metadata": {
        "colab": {
          "base_uri": "https://localhost:8080/"
        },
        "id": "bM-KA3g_dN34",
        "outputId": "3ff83da4-5690-476e-a0c6-a41ff73fcc93"
      },
      "execution_count": 4,
      "outputs": [
        {
          "output_type": "stream",
          "name": "stderr",
          "text": [
            "/usr/local/lib/python3.11/dist-packages/huggingface_hub/utils/_auth.py:94: UserWarning: \n",
            "The secret `HF_TOKEN` does not exist in your Colab secrets.\n",
            "To authenticate with the Hugging Face Hub, create a token in your settings tab (https://huggingface.co/settings/tokens), set it as secret in your Google Colab and restart your session.\n",
            "You will be able to reuse this secret in all of your notebooks.\n",
            "Please note that authentication is recommended but still optional to access public models or datasets.\n",
            "  warnings.warn(\n"
          ]
        }
      ]
    },
    {
      "cell_type": "code",
      "source": [
        "tokens = tokenizer.tokenize(data)\n",
        "token_ids = tokenizer.convert_tokens_to_ids(tokens)"
      ],
      "metadata": {
        "id": "Q9g7dceTbg2P"
      },
      "execution_count": 5,
      "outputs": []
    },
    {
      "cell_type": "code",
      "source": [
        "len(tokens) # vocab size"
      ],
      "metadata": {
        "colab": {
          "base_uri": "https://localhost:8080/"
        },
        "id": "RqGvUpl2df_V",
        "outputId": "782db710-c302-4efd-f694-05074f55161c"
      },
      "execution_count": 6,
      "outputs": [
        {
          "output_type": "execute_result",
          "data": {
            "text/plain": [
              "302"
            ]
          },
          "metadata": {},
          "execution_count": 6
        }
      ]
    },
    {
      "cell_type": "code",
      "source": [
        "# convert to embeddings\n",
        "token_ids = torch.tensor(token_ids).unsqueeze(dim=0)\n",
        "\n",
        "token_ids.shape\n",
        "\n",
        "input_embeddings = emb_model(token_ids)\n",
        "\n",
        "input_embeddings.last_hidden_state"
      ],
      "metadata": {
        "colab": {
          "base_uri": "https://localhost:8080/"
        },
        "id": "-041GkaDdlsD",
        "outputId": "a7ae6008-ceea-44a9-aced-60167f55e0f1"
      },
      "execution_count": 7,
      "outputs": [
        {
          "output_type": "execute_result",
          "data": {
            "text/plain": [
              "tensor([[[ 0.0040, -0.0719, -0.1450,  ...,  0.0961,  0.2868,  0.7926],\n",
              "         [-0.8736, -0.1772, -0.1495,  ...,  0.3733,  0.5888,  0.8709],\n",
              "         [-1.3055,  0.1648, -0.1523,  ...,  0.4047,  0.0472,  0.4095],\n",
              "         ...,\n",
              "         [-0.1763, -0.5055, -0.0862,  ...,  0.1326, -0.3608,  0.6157],\n",
              "         [ 0.0141,  0.1619,  0.0260,  ...,  0.1147,  0.0109,  0.6323],\n",
              "         [-0.1190, -0.1171, -0.2277,  ...,  0.9868,  0.1715,  0.5009]]],\n",
              "       grad_fn=<NativeLayerNormBackward0>)"
            ]
          },
          "metadata": {},
          "execution_count": 7
        }
      ]
    },
    {
      "cell_type": "code",
      "source": [
        "input_embeddings = input_embeddings.last_hidden_state.detach()\n",
        "\n",
        "input_embeddings.requires_grad"
      ],
      "metadata": {
        "colab": {
          "base_uri": "https://localhost:8080/"
        },
        "id": "mzxxKozEcQ0D",
        "outputId": "b16bb00f-86dd-4a48-cd87-0e7d2b8fed77"
      },
      "execution_count": 8,
      "outputs": [
        {
          "output_type": "execute_result",
          "data": {
            "text/plain": [
              "False"
            ]
          },
          "metadata": {},
          "execution_count": 8
        }
      ]
    },
    {
      "cell_type": "code",
      "source": [
        "# build the lstm cell\n",
        "class LSTM(nn.Module):\n",
        "  def __init__(self, input_dim, hidden_dim, output_dim):\n",
        "    super().__init__()\n",
        "    self.input_dim = input_dim\n",
        "    self.hidden_dim = hidden_dim\n",
        "    self.output_dim = output_dim\n",
        "\n",
        "    self.forget = nn.Linear(input_dim + hidden_dim, hidden_dim)\n",
        "    self.input = nn.Linear(input_dim + hidden_dim, hidden_dim)\n",
        "    self.out_gate = nn.Linear(input_dim + hidden_dim, hidden_dim)\n",
        "    self.cell = nn.Linear(input_dim + hidden_dim, hidden_dim)\n",
        "\n",
        "    self.sigmoid = nn.Sigmoid()\n",
        "    self.tanh = nn.Tanh()\n",
        "\n",
        "    self.out = nn.Linear(hidden_dim, output_dim)\n",
        "    self.softmax = nn.Softmax(dim=1)\n",
        "\n",
        "  def forward(self, x, hidden_state, cell_state):\n",
        "    input_prev_h = torch.cat((x, hidden_state), dim=1)\n",
        "\n",
        "    forget = self.forget(input_prev_h)\n",
        "    forget = self.sigmoid(forget)\n",
        "\n",
        "    input_gate = self.input(input_prev_h)\n",
        "    input_gate = self.sigmoid(input_gate)\n",
        "\n",
        "    out_gate = self.out_gate(input_prev_h)\n",
        "    out_gate = self.sigmoid(out_gate)\n",
        "\n",
        "    cell_state_t = self.cell(input_prev_h)\n",
        "    cell_state_t = self.tanh(cell_state_t)\n",
        "\n",
        "    cell_state = (cell_state_t * input_gate) + (cell_state * forget)\n",
        "    hidden_state = self.tanh(cell_state) * out_gate\n",
        "\n",
        "    out = self.out(hidden_state)\n",
        "    out_probs = self.softmax(out)\n",
        "\n",
        "    return out_probs, hidden_state, cell_state"
      ],
      "metadata": {
        "id": "n25hUGuccmmg"
      },
      "execution_count": 9,
      "outputs": []
    },
    {
      "cell_type": "code",
      "source": [
        "ce_loss = nn.CrossEntropyLoss()"
      ],
      "metadata": {
        "id": "0jCc1Gryi54H"
      },
      "execution_count": 10,
      "outputs": []
    },
    {
      "cell_type": "code",
      "source": [
        "def fit_lstm_model(vocab_size, hidden_dim=256, input_emb_dim = 768, epochs = 10, lr = 1e-3, eps = 1e-8):\n",
        "\n",
        "  lstm_model = LSTM(input_emb_dim, hidden_dim, vocab_size)\n",
        "  optimizer = torch.optim.Adam(lstm_model.parameters(), lr=lr, eps=eps)\n",
        "\n",
        "  for epoch in range(1, epochs):\n",
        "    optimizer.zero_grad()\n",
        "\n",
        "    # randomly mask the input embeddings\n",
        "    output_idx = np.random.randint(0, vocab_size)\n",
        "    input_embed = input_embeddings.clone()\n",
        "    input_embed[:, output_idx] = torch.randn(1, input_emb_dim)\n",
        "\n",
        "    hidden_state = torch.zeros(1, hidden_dim) # zero down the states per each text sequence or sentence\n",
        "    cell_state = torch.zeros(1, hidden_dim)\n",
        "\n",
        "    for tensor in input_embed[0]:\n",
        "      # teacher forced training\n",
        "      output, hidden_state, cell_state = lstm_model(tensor.unsqueeze(dim=0), hidden_state.detach(), cell_state.detach())\n",
        "\n",
        "    # After applying forward of the sequences\n",
        "\n",
        "    loss = ce_loss(output, torch.tensor(output_idx).unsqueeze(0))\n",
        "\n",
        "    loss.backward()\n",
        "    optimizer.step()\n",
        "\n",
        "    if epoch % 1 == 0:\n",
        "      print(f\"Epoch: {epoch}, Loss: {loss.item()}, Masked Token = {tokens[output_idx]} Output Token: {tokens[torch.argmax(output)]}\")\n",
        "\n",
        "  return output, loss.item()\n",
        "\n"
      ],
      "metadata": {
        "id": "Unodj1YMi_04"
      },
      "execution_count": 11,
      "outputs": []
    },
    {
      "cell_type": "code",
      "source": [
        "fit_lstm_model(len(tokens), epochs = 100)"
      ],
      "metadata": {
        "colab": {
          "base_uri": "https://localhost:8080/"
        },
        "id": "x0jki1AVjObf",
        "outputId": "30e55622-2630-4f1c-ffea-cd837d8a914d"
      },
      "execution_count": 12,
      "outputs": [
        {
          "output_type": "stream",
          "name": "stdout",
          "text": [
            "Epoch: 1, Loss: 5.710581302642822, Masked Token = dear Output Token: ,\n",
            "Epoch: 2, Loss: 5.710561275482178, Masked Token = as Output Token: dear\n",
            "Epoch: 3, Loss: 5.710864543914795, Masked Token = , Output Token: dear\n",
            "Epoch: 4, Loss: 5.71127986907959, Masked Token = trouble Output Token: dear\n",
            "Epoch: 5, Loss: 5.710628986358643, Masked Token = ; Output Token: dear\n",
            "Epoch: 6, Loss: 5.710662841796875, Masked Token = nor Output Token: dear\n",
            "Epoch: 7, Loss: 5.710498332977295, Masked Token = sister Output Token: dear\n",
            "Epoch: 8, Loss: 5.711270332336426, Masked Token = with Output Token: dear\n",
            "Epoch: 9, Loss: 5.70947265625, Masked Token = the Output Token: dear\n",
            "Epoch: 10, Loss: 5.709877967834473, Masked Token = on Output Token: dear\n",
            "Epoch: 11, Loss: 5.71036958694458, Masked Token = a Output Token: dear\n",
            "Epoch: 12, Loss: 5.709682941436768, Masked Token = of Output Token: dear\n",
            "Epoch: 13, Loss: 5.711774826049805, Masked Token = the Output Token: dear\n",
            "Epoch: 14, Loss: 5.710801601409912, Masked Token = never Output Token: dear\n",
            "Epoch: 15, Loss: 5.71218729019165, Masked Token = a Output Token: dear\n",
            "Epoch: 16, Loss: 5.711333751678467, Masked Token = do Output Token: dear\n",
            "Epoch: 17, Loss: 5.690484046936035, Masked Token = as Output Token: dear\n",
            "Epoch: 18, Loss: 5.711034774780273, Masked Token = afterwards Output Token: dear\n",
            "Epoch: 19, Loss: 5.711069583892822, Masked Token = eyes Output Token: dear\n",
            "Epoch: 20, Loss: 5.712592601776123, Masked Token = a Output Token: dear\n",
            "Epoch: 21, Loss: 5.711822986602783, Masked Token = as Output Token: as\n",
            "Epoch: 22, Loss: 5.711845874786377, Masked Token = pocket Output Token: as\n",
            "Epoch: 23, Loss: 5.710877418518066, Masked Token = , Output Token: as\n",
            "Epoch: 24, Loss: 5.711756229400635, Masked Token = to Output Token: as\n",
            "Epoch: 25, Loss: 5.711843013763428, Masked Token = to Output Token: as\n",
            "Epoch: 26, Loss: 5.709161281585693, Masked Token = do Output Token: as\n",
            "Epoch: 27, Loss: 5.712028503417969, Masked Token = then Output Token: as\n",
            "Epoch: 28, Loss: 5.712255954742432, Masked Token = sister Output Token: as\n",
            "Epoch: 29, Loss: 5.7125325202941895, Masked Token = once Output Token: as\n",
            "Epoch: 30, Loss: 5.711172580718994, Masked Token = very Output Token: as\n",
            "Epoch: 31, Loss: 5.711966037750244, Masked Token = what Output Token: as\n",
            "Epoch: 32, Loss: 5.712428092956543, Masked Token = and Output Token: as\n",
            "Epoch: 33, Loss: 5.712703227996826, Masked Token = it Output Token: as\n",
            "Epoch: 34, Loss: 5.711776256561279, Masked Token = a Output Token: as\n",
            "Epoch: 35, Loss: 5.7123847007751465, Masked Token = she Output Token: as\n",
            "Epoch: 36, Loss: 5.71246862411499, Masked Token = in Output Token: as\n",
            "Epoch: 37, Loss: 5.711798667907715, Masked Token = was Output Token: as\n",
            "Epoch: 38, Loss: 5.712422847747803, Masked Token = hot Output Token: as\n",
            "Epoch: 39, Loss: 5.711977481842041, Masked Token = all Output Token: as\n",
            "Epoch: 40, Loss: 5.711814880371094, Masked Token = all Output Token: as\n",
            "Epoch: 41, Loss: 5.712120532989502, Masked Token = started Output Token: as\n",
            "Epoch: 42, Loss: 5.711830139160156, Masked Token = ' Output Token: as\n",
            "Epoch: 43, Loss: 5.711761474609375, Masked Token = hot Output Token: as\n",
            "Epoch: 44, Loss: 5.712181568145752, Masked Token = the Output Token: as\n",
            "Epoch: 45, Loss: 5.71181583404541, Masked Token = alice Output Token: as\n",
            "Epoch: 46, Loss: 5.712383270263672, Masked Token = white Output Token: as\n",
            "Epoch: 47, Loss: 5.712229251861572, Masked Token = sitting Output Token: as\n",
            "Epoch: 48, Loss: 5.7116522789001465, Masked Token = get Output Token: as\n",
            "Epoch: 49, Loss: 5.709977149963379, Masked Token = a Output Token: as\n",
            "Epoch: 50, Loss: 5.711934566497803, Masked Token = so Output Token: as\n",
            "Epoch: 51, Loss: 5.712228775024414, Masked Token = stupid Output Token: as\n",
            "Epoch: 52, Loss: 5.710541725158691, Masked Token = to Output Token: as\n",
            "Epoch: 53, Loss: 5.711369037628174, Masked Token = , Output Token: as\n",
            "Epoch: 54, Loss: 5.711068630218506, Masked Token = it Output Token: as\n",
            "Epoch: 55, Loss: 5.712516784667969, Masked Token = - Output Token: as\n",
            "Epoch: 56, Loss: 5.71107816696167, Masked Token = of Output Token: as\n",
            "Epoch: 57, Loss: 5.712157726287842, Masked Token = to Output Token: as\n",
            "Epoch: 58, Loss: 5.712102890014648, Masked Token = nothing Output Token: as\n",
            "Epoch: 59, Loss: 5.711875915527344, Masked Token = into Output Token: as\n",
            "Epoch: 60, Loss: 5.711948394775391, Masked Token = looked Output Token: as\n",
            "Epoch: 61, Loss: 5.71163272857666, Masked Token = , Output Token: as\n",
            "Epoch: 62, Loss: 5.711450576782227, Masked Token = curiosity Output Token: as\n",
            "Epoch: 63, Loss: 5.711979866027832, Masked Token = mind Output Token: as\n",
            "Epoch: 64, Loss: 5.711767196655273, Masked Token = , Output Token: as\n",
            "Epoch: 65, Loss: 5.711753845214844, Masked Token = burning Output Token: as\n",
            "Epoch: 66, Loss: 5.7065043449401855, Masked Token = as Output Token: as\n",
            "Epoch: 67, Loss: 5.711300849914551, Masked Token = and Output Token: as\n",
            "Epoch: 68, Loss: 5.712198734283447, Masked Token = this Output Token: as\n",
            "Epoch: 69, Loss: 5.711921215057373, Masked Token = twice Output Token: as\n",
            "Epoch: 70, Loss: 5.712332725524902, Masked Token = the Output Token: as\n",
            "Epoch: 71, Loss: 5.712254047393799, Masked Token = late Output Token: as\n",
            "Epoch: 72, Loss: 5.711774826049805, Masked Token = very Output Token: as\n",
            "Epoch: 73, Loss: 5.7119598388671875, Masked Token = be Output Token: as\n",
            "Epoch: 74, Loss: 5.71193790435791, Masked Token = the Output Token: as\n",
            "Epoch: 75, Loss: 5.7122344970703125, Masked Token = ? Output Token: as\n",
            "Epoch: 76, Loss: 5.711521148681641, Masked Token = much Output Token: as\n",
            "Epoch: 77, Loss: 5.711589813232422, Masked Token = by Output Token: as\n",
            "Epoch: 78, Loss: 5.706704616546631, Masked Token = ' Output Token: as\n",
            "Epoch: 79, Loss: 5.712144374847412, Masked Token = so Output Token: as\n",
            "Epoch: 80, Loss: 5.7114667892456055, Masked Token = tired Output Token: as\n",
            "Epoch: 81, Loss: 5.7112274169921875, Masked Token = of Output Token: as\n",
            "Epoch: 82, Loss: 5.711505889892578, Masked Token = use Output Token: as\n",
            "Epoch: 83, Loss: 5.701686859130859, Masked Token = trouble Output Token: as\n",
            "Epoch: 84, Loss: 5.662655353546143, Masked Token = as Output Token: as\n",
            "Epoch: 85, Loss: 5.712145805358887, Masked Token = chain Output Token: as\n",
            "Epoch: 86, Loss: 5.710418701171875, Masked Token = this Output Token: as\n",
            "Epoch: 87, Loss: 5.707736492156982, Masked Token = , Output Token: as\n",
            "Epoch: 88, Loss: 5.711633682250977, Masked Token = its Output Token: as\n",
            "Epoch: 89, Loss: 5.711068630218506, Masked Token = use Output Token: as\n",
            "Epoch: 90, Loss: 5.710622310638428, Masked Token = by Output Token: as\n",
            "Epoch: 91, Loss: 5.7127180099487305, Masked Token = ##ped Output Token: as\n",
            "Epoch: 92, Loss: 5.708916664123535, Masked Token = curiosity Output Token: as\n",
            "Epoch: 93, Loss: 5.7123870849609375, Masked Token = that Output Token: as\n",
            "Epoch: 94, Loss: 5.712504863739014, Masked Token = the Output Token: as\n",
            "Epoch: 95, Loss: 5.712793827056885, Masked Token = her Output Token: as\n",
            "Epoch: 96, Loss: 5.7125115394592285, Masked Token = , Output Token: as\n",
            "Epoch: 97, Loss: 5.710238933563232, Masked Token = tired Output Token: as\n",
            "Epoch: 98, Loss: 5.712656021118164, Masked Token = own Output Token: as\n",
            "Epoch: 99, Loss: 5.713103294372559, Masked Token = had Output Token: as\n"
          ]
        },
        {
          "output_type": "execute_result",
          "data": {
            "text/plain": [
              "(tensor([[0.0014, 0.0006, 0.0012, 0.0084, 0.0063, 0.0037, 0.0040, 0.0066, 0.0057,\n",
              "          0.0045, 0.0008, 0.0066, 0.0189, 0.0193, 0.0012, 0.0046, 0.0010, 0.0011,\n",
              "          0.0010, 0.0040, 0.0016, 0.0144, 0.0009, 0.0048, 0.0012, 0.0038, 0.0016,\n",
              "          0.0011, 0.0012, 0.0014, 0.0049, 0.0014, 0.0015, 0.0012, 0.0158, 0.0013,\n",
              "          0.0010, 0.0119, 0.0011, 0.0009, 0.0010, 0.0010, 0.0008, 0.0010, 0.0012,\n",
              "          0.0008, 0.0014, 0.0127, 0.0008, 0.0059, 0.0070, 0.0011, 0.0009, 0.0041,\n",
              "          0.0039, 0.0079, 0.0011, 0.0006, 0.0009, 0.0010, 0.0014, 0.0009, 0.0017,\n",
              "          0.0008, 0.0008, 0.0009, 0.0024, 0.0145, 0.0011, 0.0056, 0.0083, 0.0011,\n",
              "          0.0008, 0.0009, 0.0012, 0.0010, 0.0011, 0.0172, 0.0009, 0.1644, 0.0013,\n",
              "          0.0011, 0.0013, 0.0008, 0.0016, 0.0076, 0.0009, 0.0012, 0.0010, 0.0008,\n",
              "          0.0012, 0.0009, 0.0011, 0.0052, 0.0008, 0.0013, 0.0011, 0.0012, 0.0012,\n",
              "          0.0014, 0.0006, 0.0013, 0.0012, 0.0012, 0.0019, 0.0013, 0.0009, 0.0009,\n",
              "          0.0099, 0.0256, 0.0192, 0.0010, 0.0011, 0.0013, 0.0010, 0.0009, 0.0013,\n",
              "          0.0009, 0.0043, 0.0009, 0.0013, 0.0010, 0.0042, 0.0009, 0.0010, 0.0009,\n",
              "          0.0110, 0.0012, 0.0015, 0.0007, 0.0011, 0.0009, 0.0015, 0.0011, 0.0006,\n",
              "          0.0022, 0.0087, 0.0014, 0.0056, 0.0010, 0.0138, 0.0158, 0.0009, 0.0008,\n",
              "          0.0012, 0.0020, 0.0049, 0.0010, 0.0035, 0.0012, 0.0013, 0.0011, 0.0008,\n",
              "          0.0011, 0.0011, 0.0012, 0.0016, 0.0012, 0.0012, 0.0008, 0.0009, 0.0010,\n",
              "          0.0007, 0.0011, 0.0012, 0.0012, 0.0123, 0.0014, 0.0006, 0.0010, 0.0032,\n",
              "          0.0027, 0.0011, 0.0009, 0.0007, 0.0008, 0.0008, 0.0012, 0.0009, 0.0014,\n",
              "          0.0097, 0.0096, 0.0007, 0.0014, 0.0083, 0.0010, 0.0017, 0.0014, 0.0013,\n",
              "          0.0040, 0.0012, 0.0011, 0.0011, 0.0046, 0.0007, 0.0009, 0.0015, 0.0007,\n",
              "          0.0007, 0.0074, 0.0082, 0.0011, 0.0010, 0.0007, 0.0013, 0.0015, 0.0011,\n",
              "          0.0014, 0.0056, 0.0012, 0.0011, 0.0009, 0.0008, 0.0011, 0.0012, 0.0013,\n",
              "          0.0027, 0.0011, 0.0009, 0.0016, 0.0078, 0.0005, 0.0053, 0.0043, 0.0011,\n",
              "          0.0008, 0.0018, 0.0013, 0.0065, 0.0010, 0.0014, 0.0010, 0.0077, 0.0050,\n",
              "          0.0013, 0.0009, 0.0010, 0.0011, 0.0009, 0.0012, 0.0011, 0.0010, 0.0008,\n",
              "          0.0046, 0.0010, 0.0012, 0.0007, 0.0135, 0.0010, 0.0012, 0.0179, 0.0009,\n",
              "          0.0012, 0.0007, 0.0012, 0.0012, 0.0011, 0.0010, 0.0008, 0.0011, 0.0011,\n",
              "          0.0080, 0.0008, 0.0009, 0.0012, 0.0014, 0.0010, 0.0011, 0.0009, 0.0006,\n",
              "          0.0045, 0.0129, 0.0066, 0.0008, 0.0011, 0.0013, 0.0013, 0.0035, 0.0010,\n",
              "          0.0011, 0.0039, 0.0015, 0.0011, 0.0010, 0.0011, 0.0011, 0.0012, 0.0007,\n",
              "          0.0086, 0.0011, 0.0007, 0.0011, 0.0010, 0.0088, 0.0011, 0.0008, 0.0033,\n",
              "          0.0013, 0.0007, 0.0014, 0.0013, 0.0010]], grad_fn=<SoftmaxBackward0>),\n",
              " 5.713103294372559)"
            ]
          },
          "metadata": {},
          "execution_count": 12
        }
      ]
    }
  ]
}